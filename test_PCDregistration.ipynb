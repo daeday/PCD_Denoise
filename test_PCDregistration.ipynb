{
 "cells": [
  {
   "cell_type": "code",
   "execution_count": null,
   "metadata": {},
   "outputs": [],
   "source": [
    "import open3d as o3d\n",
    "\n",
    "# source = o3d.io.read_point_cloud(\"source.e57\")\n",
    "# target = o3d.io.read_point_cloud(\"target.pcd\")"
   ]
  },
  {
   "cell_type": "code",
   "execution_count": 10,
   "metadata": {},
   "outputs": [],
   "source": [
    "def sample_test(sou, **kwargs):\n",
    "    print(kwargs.keys())\n",
    "    print(kwargs['voxel_size'])\n",
    "    print(kwargs['distance_threshold'])"
   ]
  },
  {
   "cell_type": "code",
   "execution_count": 11,
   "metadata": {},
   "outputs": [
    {
     "name": "stdout",
     "output_type": "stream",
     "text": [
      "dict_keys(['voxel_size', 'distance_threshold'])\n",
      "10\n",
      "20\n"
     ]
    }
   ],
   "source": [
    "sample_test(11, voxel_size=10, distance_threshold=20)"
   ]
  },
  {
   "cell_type": "code",
   "execution_count": null,
   "metadata": {},
   "outputs": [],
   "source": [
    "def merge_e57_point_clouds(source_path, target_path, output_path, **kwargs):\n",
    "    \"\"\"\n",
    "    Merge two overlapping .e57 point clouds into a single point cloud.\n",
    "\n",
    "    Args:\n",
    "        source_path (str): Path to the source .e57 file.\n",
    "        target_path (str): Path to the target .e57 file.\n",
    "        output_path (str): Path to save the merged point cloud as .e57 or other formats.\n",
    "\n",
    "    Returns:\n",
    "        merged_pcd (open3d.geometry.PointCloud): Merged point cloud.\n",
    "    \"\"\"\n",
    "    # Load source and target .e57 files\n",
    "    print(\"Loading point clouds...\")\n",
    "    source_pcd = o3d.io.read_point_cloud(source_path)\n",
    "    target_pcd = o3d.io.read_point_cloud(target_path)\n",
    "\n",
    "    # Downsample point clouds for faster processing\n",
    "    print(\"Downsampling point clouds...\")\n",
    "    if kwargs['voxel_size'] is not None:\n",
    "        voxel_size = kwargs['voxel_size']\n",
    "    else:\n",
    "        voxel_size = 0.05  # Adjust voxel size as needed\n",
    "\n",
    "    if kwargs['distance_threshold'] is not None:\n",
    "        distance_threshold = kwargs['distance_threshold']\n",
    "    else:\n",
    "        distance_threshold = voxel_size * 2  # Adjust threshold as needed\n",
    "\n",
    "    source_down = source_pcd.voxel_down_sample(voxel_size)\n",
    "    target_down = target_pcd.voxel_down_sample(voxel_size)\n",
    "\n",
    "    # Compute FPFH feature descriptors for both point clouds\n",
    "    print(\"Computing FPFH features...\")\n",
    "    source_fpfh = o3d.pipelines.registration.compute_fpfh_feature(\n",
    "        source_down, o3d.geometry.KDTreeSearchParamHybrid(radius=voxel_size * 5, max_nn=100)\n",
    "    )\n",
    "    target_fpfh = o3d.pipelines.registration.compute_fpfh_feature(\n",
    "        target_down, o3d.geometry.KDTreeSearchParamHybrid(radius=voxel_size * 5, max_nn=100)\n",
    "    )\n",
    "\n",
    "    # Perform RANSAC-based initial alignment\n",
    "    print(\"Performing initial alignment with RANSAC...\")\n",
    "    \n",
    "    result_ransac = o3d.pipelines.registration.registration_ransac_based_on_feature_matching(\n",
    "        source_down, target_down, source_fpfh, target_fpfh,\n",
    "        max_correspondence_distance=distance_threshold,\n",
    "        estimation_method=o3d.pipelines.registration.TransformationEstimationPointToPoint(),\n",
    "        ransac_n=4,\n",
    "        criteria=o3d.pipelines.registration.RANSACConvergenceCriteria(400000, 500)\n",
    "    )\n",
    "\n",
    "    print(\"Initial alignment result:\")\n",
    "    print(result_ransac)\n",
    "\n",
    "    # Perform fine-tuning with ICP\n",
    "    print(\"Refining alignment with ICP...\")\n",
    "    result_icp = o3d.pipelines.registration.registration_icp(\n",
    "        source_pcd, target_pcd, max_correspondence_distance=voxel_size,\n",
    "        init=result_ransac.transformation,\n",
    "        estimation_method=o3d.pipelines.registration.TransformationEstimationPointToPoint()\n",
    "    )\n",
    "\n",
    "    print(\"ICP alignment result:\")\n",
    "    print(result_icp)\n",
    "\n",
    "    # Apply transformation to source point cloud\n",
    "    print(\"Applying transformation to source point cloud...\")\n",
    "    source_pcd.transform(result_icp.transformation)\n",
    "\n",
    "    # Merge the point clouds\n",
    "    print(\"Merging point clouds...\")\n",
    "    merged_pcd = source_pcd + target_pcd\n",
    "\n",
    "    # Save the merged point cloud\n",
    "    print(f\"Saving merged point cloud to {output_path}...\")\n",
    "    o3d.io.write_point_cloud(output_path, merged_pcd)\n",
    "\n",
    "    print(\"Point clouds merged successfully.\")\n",
    "    return merged_pcd"
   ]
  },
  {
   "cell_type": "markdown",
   "metadata": {},
   "source": [
    "voxel_size:다운샘플링 크기와 정렬의 정밀도에 영향을 미칩니다. 겹치는 영역이 작거나 더 세밀한 정렬이 필요할 경우 값을 줄이세요.\n",
    "\n",
    "distance_threshold:RANSAC 및 ICP 정렬 시의 대응점 거리 허용값. 겹치는 영역이 적다면 값을 늘려야 합니다.\n",
    "\n",
    "max_correspondence_distance: ICP의 대응점 거리 허용값으로, 병합 정밀도에 영향을 줍니다."
   ]
  },
  {
   "cell_type": "code",
   "execution_count": null,
   "metadata": {},
   "outputs": [],
   "source": [
    "# Example usage\n",
    "source_path = \"source.e57\"\n",
    "target_path = \"target.e57\"\n",
    "output_path = \"merged.e57\"\n",
    "\n",
    "merged_pcd = merge_e57_point_clouds(source_path, target_path, output_path)\n",
    "\n",
    "# # If overlapped points erased,\n",
    "# merged_pcd = merged_pcd.voxel_down_sample(voxel_size=0.01)\n",
    "\n",
    "# # Statistical noise removal\n",
    "# cl, ind = merged_pcd.remove_statistical_outlier(nb_neighbors=20, std_ratio=2.0)\n",
    "# merged_pcd = merged_pcd.select_by_index(ind)\n",
    "\n",
    "# Visualize the merged point cloud\n",
    "o3d.visualization.draw_geometries([merged_pcd])"
   ]
  },
  {
   "cell_type": "markdown",
   "metadata": {},
   "source": []
  }
 ],
 "metadata": {
  "kernelspec": {
   "display_name": "Python 3",
   "language": "python",
   "name": "python3"
  },
  "language_info": {
   "codemirror_mode": {
    "name": "ipython",
    "version": 3
   },
   "file_extension": ".py",
   "mimetype": "text/x-python",
   "name": "python",
   "nbconvert_exporter": "python",
   "pygments_lexer": "ipython3",
   "version": "3.9.5"
  }
 },
 "nbformat": 4,
 "nbformat_minor": 2
}
