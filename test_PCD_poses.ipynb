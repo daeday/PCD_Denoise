{
 "cells": [
  {
   "cell_type": "code",
   "execution_count": 31,
   "metadata": {},
   "outputs": [],
   "source": [
    "from glob import glob\n",
    "from tqdm import tqdm\n",
    "import numpy as np"
   ]
  },
  {
   "cell_type": "code",
   "execution_count": 3,
   "metadata": {},
   "outputs": [
    {
     "name": "stdout",
     "output_type": "stream",
     "text": [
      "First frame pose matrix:\n",
      "[[ 1.00000e+00  0.00000e+00  1.67347e-10  0.00000e+00]\n",
      " [ 9.31323e-10  1.00000e+00  0.00000e+00  0.00000e+00]\n",
      " [-4.14730e-10  0.00000e+00  1.00000e+00  0.00000e+00]]\n"
     ]
    }
   ],
   "source": [
    "def load_poses(file_path):\n",
    "    poses = []\n",
    "    with open(file_path, 'r') as f:\n",
    "        for line in f:\n",
    "            pose = np.fromstring(line.strip(), sep=' ').reshape(3, 4)\n",
    "            poses.append(pose)\n",
    "    return np.array(poses)\n",
    "\n",
    "# Example: Load poses.txt\n",
    "file_path = \"./../daeyoung/SemanticKITTI/sequences/07/poses.txt\"  # 파일 경로를 입력하세요\n",
    "poses = load_poses(file_path)\n",
    "\n",
    "# 첫 번째 프레임의 4x4 변환 행렬 출력\n",
    "print(\"First frame pose matrix:\")\n",
    "print(poses[0])"
   ]
  },
  {
   "cell_type": "code",
   "execution_count": null,
   "metadata": {},
   "outputs": [],
   "source": [
    "def load_point_cloud(file_path):\n",
    "    point_cloud = np.fromfile(file_path, dtype=np.float32).reshape(-1, 4)\n",
    "    return point_cloud[:, :3]  # XYZ 값만 사용\n",
    "\n",
    "point_cloud_path = './../daeyoung/SemanticKITTI/sequences/07/velodyne/*.bin'\n",
    "point_cloud_list = glob('./../daeyoung/SemanticKITTI/sequences/07/velodyne/*.bin')\n",
    "\n",
    "point_cloud = load_point_cloud(point_cloud_list[0])"
   ]
  },
  {
   "cell_type": "code",
   "execution_count": 12,
   "metadata": {},
   "outputs": [],
   "source": [
    "def extend_pose(pose):\n",
    "    pose_extended = np.eye(4)\n",
    "    pose_extended[:3, :] = pose\n",
    "    return pose_extended\n",
    "\n",
    "extended_poses = [extend_pose(p) for p in poses]"
   ]
  },
  {
   "cell_type": "code",
   "execution_count": 15,
   "metadata": {},
   "outputs": [],
   "source": [
    "def transform_point_cloud(point_cloud, pose):\n",
    "    num_points = point_cloud.shape[0]\n",
    "    points_homo = np.hstack((point_cloud, np.ones((num_points, 1))))  # 동차 좌표로 확장\n",
    "    transformed_points = (pose @ points_homo.T).T\n",
    "    return transformed_points[:, :3]  # XYZ 좌표만 반환\n",
    "\n",
    "transformed_point_cloud = transform_point_cloud(point_cloud, extended_poses[0])"
   ]
  },
  {
   "cell_type": "code",
   "execution_count": 21,
   "metadata": {},
   "outputs": [
    {
     "data": {
      "text/plain": [
       "(126278, 3)"
      ]
     },
     "execution_count": 21,
     "metadata": {},
     "output_type": "execute_result"
    }
   ],
   "source": [
    "transformed_point_cloud.shape"
   ]
  },
  {
   "cell_type": "code",
   "execution_count": 32,
   "metadata": {},
   "outputs": [
    {
     "name": "stderr",
     "output_type": "stream",
     "text": [
      "0it [00:00, ?it/s]"
     ]
    },
    {
     "name": "stderr",
     "output_type": "stream",
     "text": [
      "1101it [00:03, 287.55it/s]\n"
     ]
    }
   ],
   "source": [
    "global_point_cloud = []\n",
    "\n",
    "for i, pose in tqdm(enumerate(extended_poses)):\n",
    "    point_cloud_file = f\"./../daeyoung/SemanticKITTI/sequences/07/velodyne/{i:06d}.bin\"\n",
    "    point_cloud = load_point_cloud(point_cloud_file)\n",
    "    transformed_point_cloud = transform_point_cloud(point_cloud, pose)\n",
    "    global_point_cloud.append(transformed_point_cloud)\n",
    "\n",
    "global_point_cloud = np.vstack(global_point_cloud)\n"
   ]
  },
  {
   "cell_type": "code",
   "execution_count": 34,
   "metadata": {},
   "outputs": [],
   "source": [
    "import open3d as o3d\n",
    "\n",
    "def visualize_point_cloud(points):\n",
    "    pcd = o3d.geometry.PointCloud()\n",
    "    pcd.points = o3d.utility.Vector3dVector(points)\n",
    "    o3d.visualization.draw_geometries([pcd])\n",
    "\n",
    "def save_point_cloud(points, save_path):\n",
    "    pcd = o3d.geometry.PointCloud()\n",
    "    pcd.points = o3d.utility.Vector3dVector(points)\n",
    "    o3d.io.write_point_cloud(save_path, pcd)\n",
    "\n",
    "save_point_cloud(global_point_cloud, './../data/SemanticKITTI/global_point_cloud.pcd')\n",
    "# visualize_point_cloud(global_point_cloud)"
   ]
  },
  {
   "cell_type": "code",
   "execution_count": 35,
   "metadata": {},
   "outputs": [
    {
     "data": {
      "text/plain": [
       "(133585213, 3)"
      ]
     },
     "execution_count": 35,
     "metadata": {},
     "output_type": "execute_result"
    }
   ],
   "source": [
    "global_point_cloud.shape"
   ]
  },
  {
   "cell_type": "code",
   "execution_count": null,
   "metadata": {},
   "outputs": [],
   "source": []
  }
 ],
 "metadata": {
  "kernelspec": {
   "display_name": "Python 3",
   "language": "python",
   "name": "python3"
  },
  "language_info": {
   "codemirror_mode": {
    "name": "ipython",
    "version": 3
   },
   "file_extension": ".py",
   "mimetype": "text/x-python",
   "name": "python",
   "nbconvert_exporter": "python",
   "pygments_lexer": "ipython3",
   "version": "3.9.5"
  }
 },
 "nbformat": 4,
 "nbformat_minor": 2
}
