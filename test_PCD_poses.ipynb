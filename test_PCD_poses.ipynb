{
 "cells": [
  {
   "cell_type": "code",
   "execution_count": 2,
   "metadata": {},
   "outputs": [
    {
     "name": "stdout",
     "output_type": "stream",
     "text": [
      "First frame pose matrix:\n",
      "[[ 1.00000e+00  0.00000e+00  1.67347e-10  0.00000e+00]\n",
      " [ 9.31323e-10  1.00000e+00  0.00000e+00  0.00000e+00]\n",
      " [-4.14730e-10  0.00000e+00  1.00000e+00  0.00000e+00]\n",
      " [ 0.00000e+00  0.00000e+00  0.00000e+00  1.00000e+00]]\n"
     ]
    }
   ],
   "source": [
    "import numpy as np\n",
    "\n",
    "def load_poses(file_path):\n",
    "    \"\"\"\n",
    "    Load the poses from SemanticKITTI 'poses.txt' file.\n",
    "    Args:\n",
    "        file_path (str): Path to the poses.txt file.\n",
    "    Returns:\n",
    "        poses (list of numpy.ndarray): List of 4x4 transformation matrices.\n",
    "    \"\"\"\n",
    "    poses = []\n",
    "    with open(file_path, 'r') as f:\n",
    "        for line in f:\n",
    "            values = list(map(float, line.strip().split()))\n",
    "            pose = np.eye(4)  # 4x4 identity matrix\n",
    "            pose[:3, :4] = np.array(values).reshape(3, 4)  # Insert 3x4 pose\n",
    "            poses.append(pose)\n",
    "    return poses\n",
    "\n",
    "# Example: Load poses.txt\n",
    "file_path = \"./../daeyoung/SemanticKITTI/sequences/07/poses.txt\"  # 파일 경로를 입력하세요\n",
    "poses = load_poses(file_path)\n",
    "\n",
    "# 첫 번째 프레임의 4x4 변환 행렬 출력\n",
    "print(\"First frame pose matrix:\")\n",
    "print(poses[0])"
   ]
  },
  {
   "cell_type": "code",
   "execution_count": 3,
   "metadata": {},
   "outputs": [
    {
     "name": "stdout",
     "output_type": "stream",
     "text": [
      "[[ 9.99984e-01 -5.42030e-06 -5.65610e-03 -6.19824e-03]\n",
      " [ 9.20333e-06  1.00000e+00  6.68768e-04 -1.29639e-02]\n",
      " [ 5.65609e-03 -6.68809e-04  9.99984e-01  7.54008e-02]\n",
      " [ 0.00000e+00  0.00000e+00  0.00000e+00  1.00000e+00]]\n"
     ]
    }
   ],
   "source": [
    "print(poses[1])"
   ]
  },
  {
   "cell_type": "code",
   "execution_count": null,
   "metadata": {},
   "outputs": [],
   "source": []
  }
 ],
 "metadata": {
  "kernelspec": {
   "display_name": "Python 3",
   "language": "python",
   "name": "python3"
  },
  "language_info": {
   "codemirror_mode": {
    "name": "ipython",
    "version": 3
   },
   "file_extension": ".py",
   "mimetype": "text/x-python",
   "name": "python",
   "nbconvert_exporter": "python",
   "pygments_lexer": "ipython3",
   "version": "3.9.5"
  }
 },
 "nbformat": 4,
 "nbformat_minor": 2
}
