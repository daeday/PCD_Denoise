{
 "cells": [
  {
   "cell_type": "code",
   "execution_count": 2,
   "metadata": {},
   "outputs": [],
   "source": [
    "import numpy as np\n",
    "import cv2\n",
    "import matplotlib.pyplot as plt\n",
    "import matplotlib.image as mpimg\n",
    "from IPython.display import Image\n",
    "import glob\n",
    "import struct\n",
    "import open3d as o3d\n",
    "from tqdm import tqdm\n",
    "import pandas as pd\n",
    "\n",
    "from segmentations.segmentation import segmentation_img, human_labeling\n",
    "from argparse import Namespace\n",
    "from PCDprocessing.lidar_camera_project import RGB_mapping2pcd, label_coloring2pcd\n",
    "import argparse\n",
    "import json\n",
    "import os"
   ]
  },
  {
   "cell_type": "code",
   "execution_count": 3,
   "metadata": {},
   "outputs": [],
   "source": [
    "## read json file\n",
    "def load_config_as_args(json_path):\n",
    "    \"\"\"Load configuration from a JSON file and return it as an argparse.Namespace object.\"\"\"\n",
    "    if not os.path.exists(json_path):\n",
    "        raise FileNotFoundError(f\"Configuration file not found: {json_path}\")\n",
    "    with open(json_path, 'r') as file:\n",
    "        config = json.load(file)\n",
    "\n",
    "    # Convert dictionary to Namespace\n",
    "    args = Namespace(**config)\n",
    "    # args = parser.parse_args()\n",
    "    return args\n",
    "args = load_config_as_args(\"config.json\")\n",
    "\n",
    "point_files = sorted(glob.glob(args.pcd_path))\n",
    "label_files = sorted(glob.glob(args.lbl_path))\n",
    "image2_files = sorted(glob.glob(args.img2_path))\n",
    "image3_files = sorted(glob.glob(args.img3_path))\n",
    "\n",
    "## Calibration matrix composition\n",
    "with open(args.calib_path,'r') as f:\n",
    "    calib = f.readlines()\n",
    "\n",
    "P2 = np.array([float(x) for x in calib[2].strip('\\n').split(' ')[1:]]).reshape(3, 4)\n",
    "P3 = np.array([float(x) for x in calib[3].strip('\\n').split(' ')[1:]]).reshape(3, 4)\n",
    "Tr = np.array([float(x) for x in calib[4].strip('\\n').split(' ')[1:]]).reshape(3, 4)\n",
    "Tr = np.insert(Tr, 3, values=[0, 0, 0, 1], axis=0)"
   ]
  },
  {
   "cell_type": "code",
   "execution_count": 4,
   "metadata": {},
   "outputs": [
    {
     "name": "stdout",
     "output_type": "stream",
     "text": [
      " 41\n"
     ]
    },
    {
     "data": {
      "text/plain": [
       "<Figure size 1152x480 with 0 Axes>"
      ]
     },
     "metadata": {},
     "output_type": "display_data"
    }
   ],
   "source": [
    "file_index = 9\n",
    "Person_label = 30\n",
    "img = image2_files[file_index]\n",
    "binary = point_files[file_index]\n",
    "label = label_files[file_index]\n",
    "\n",
    "origin_img = cv2.imread(img)\n",
    "origin_img = cv2.cvtColor(origin_img, cv2.COLOR_BGR2RGB)\n",
    "Person_label = 30\n",
    "lbls = np.fromfile(label, dtype=np.uint32) & 0xFFFF\n",
    "\n",
    "num2 = 0\n",
    "for nums in lbls:\n",
    "    if nums==Person_label:\n",
    "        num2+=1\n",
    "print(\"\",num2)\n",
    "\n",
    "# read raw data from binary\n",
    "scan = np.fromfile(binary, dtype=np.float32).reshape((-1, 4))\n",
    "points = scan[:, 0:3]  # lidar xyz (front, left, up)\n",
    "points_idx = {}\n",
    "for idxs in range(len(points)):\n",
    "    points_idx[idxs] = points[idxs]\n",
    "\n",
    "# Apply projection matrix\n",
    "velo = np.insert(points, 3, 1, axis=1).T\n",
    "cam = P2.dot(Tr.dot(velo))\n",
    "cam[:2] /= cam[2, :]\n",
    "\n",
    "# Preparation on image\n",
    "plt.figure(figsize=(12, 5), dpi=96, tight_layout=True)\n",
    "label_color = (255,1,1)\n",
    "png = origin_img\n",
    "IMG_H, IMG_W, _ = png.shape\n",
    "# plt.axis([0, IMG_W, IMG_H, 0])/\n",
    "\n",
    "# Filter point out of canvas\n",
    "u, v, z = cam\n",
    "u_out = np.logical_or(u < 0, u > IMG_W)\n",
    "v_out = np.logical_or(v < 0, v > IMG_H)\n",
    "outlier = np.logical_or(u_out, v_out)\n",
    "\n",
    "remain_pts = []\n",
    "for idxss, bools in enumerate(outlier):\n",
    "    if not bools:\n",
    "        if lbls[idxss] == Person_label:\n",
    "            remain_pts.append(points[idxss])\n"
   ]
  },
  {
   "cell_type": "code",
   "execution_count": 53,
   "metadata": {},
   "outputs": [
    {
     "data": {
      "text/plain": [
       "227"
      ]
     },
     "execution_count": 53,
     "metadata": {},
     "output_type": "execute_result"
    }
   ],
   "source": [
    "remain_pts = []\n",
    "for idxss, bools in enumerate(outlier):\n",
    "    if not bools:\n",
    "        if lbls[idxss] == Person_label:\n",
    "            remain_pts.append(points[idxss])\n",
    "\n",
    "len(remain_pts)"
   ]
  },
  {
   "cell_type": "markdown",
   "metadata": {},
   "source": [
    "# Test Field"
   ]
  },
  {
   "cell_type": "code",
   "execution_count": null,
   "metadata": {},
   "outputs": [],
   "source": [
    "# file_index = 9\n",
    "print(len(image2_files))\n",
    "lbl_points_in_sight = []\n",
    "for file_index in tqdm(range(len(image2_files))):\n",
    "    Person_label = 30\n",
    "    img = image2_files[file_index]\n",
    "    binary = point_files[file_index]\n",
    "    label = label_files[file_index]\n",
    "\n",
    "    origin_img = cv2.imread(img)\n",
    "    origin_img = cv2.cvtColor(origin_img, cv2.COLOR_BGR2RGB)\n",
    "    Person_label = 30\n",
    "    lbls = np.fromfile(label, dtype=np.uint32) & 0xFFFF\n",
    "\n",
    "    # num2 = 0\n",
    "    # for nums in lbls:\n",
    "    #     if nums==Person_label:\n",
    "    #         num2+=1\n",
    "    # print(\"\",num2)\n",
    "\n",
    "    # read raw data from binary\n",
    "    scan = np.fromfile(binary, dtype=np.float32).reshape((-1, 4))\n",
    "    points = scan[:, 0:3]  # lidar xyz (front, left, up)\n",
    "    points_idx = {}\n",
    "    for idxs in range(len(points)):\n",
    "        points_idx[idxs] = points[idxs]\n",
    "\n",
    "    # Apply projection matrix\n",
    "    velo = np.insert(points, 3, 1, axis=1).T\n",
    "    cam = P2.dot(Tr.dot(velo))\n",
    "    cam[:2] /= cam[2, :]\n",
    "\n",
    "    # Preparation on image\n",
    "    plt.figure(figsize=(12, 5), dpi=96, tight_layout=True)\n",
    "    label_color = (255,1,1)\n",
    "    png = origin_img\n",
    "    IMG_H, IMG_W, _ = png.shape\n",
    "    # plt.axis([0, IMG_W, IMG_H, 0])/\n",
    "\n",
    "    # Filter point out of canvas\n",
    "    u, v, z = cam\n",
    "    u_out = np.logical_or(u < 0, u > IMG_W)\n",
    "    v_out = np.logical_or(v < 0, v > IMG_H)\n",
    "    z_out = np.logical_or(z < 0, z > 500000)\n",
    "    outlier = np.logical_or(np.logical_or(u_out, v_out), z_out)\n",
    "\n",
    "    remain_pts = []\n",
    "    for idxss, bools in enumerate(outlier):\n",
    "        if not bools:\n",
    "            if lbls[idxss] == Person_label:\n",
    "                remain_pts.append(points[idxss])\n",
    "    \n",
    "    lbl_points_in_sight.append(len(remain_pts))"
   ]
  },
  {
   "cell_type": "code",
   "execution_count": 6,
   "metadata": {},
   "outputs": [],
   "source": [
    "datas= {'FoV_pts':lbl_points_in_sight}\n",
    "df = pd.DataFrame(datas)\n",
    "df.to_excel('./../data/outputs/PCD_denoise_SeKITTI_seq08_FoV.xlsx')"
   ]
  },
  {
   "cell_type": "code",
   "execution_count": null,
   "metadata": {},
   "outputs": [],
   "source": []
  }
 ],
 "metadata": {
  "kernelspec": {
   "display_name": "Python 3",
   "language": "python",
   "name": "python3"
  },
  "language_info": {
   "codemirror_mode": {
    "name": "ipython",
    "version": 3
   },
   "file_extension": ".py",
   "mimetype": "text/x-python",
   "name": "python",
   "nbconvert_exporter": "python",
   "pygments_lexer": "ipython3",
   "version": "3.9.5"
  }
 },
 "nbformat": 4,
 "nbformat_minor": 2
}
